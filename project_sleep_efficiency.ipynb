{
 "cells": [
  {
   "cell_type": "code",
   "execution_count": 55,
   "id": "7cf9af5a",
   "metadata": {},
   "outputs": [],
   "source": [
    "# Importación de librerías necesarias\n",
    "# -----------------------------------------------------------------------\n",
    "\n",
    "# Tratamiento de datos\n",
    "import pandas as pd\n",
    "import numpy as np \n",
    "# -----------------------------------------------------------------------\n",
    "\n",
    "# Imputación de nulos usando métodos avanzados estadísticos\n",
    "from sklearn.impute import SimpleImputer\n",
    "from sklearn.experimental import enable_iterative_imputer\n",
    "from sklearn.impute import IterativeImputer\n",
    "from sklearn.impute import KNNImputer\n",
    "# -----------------------------------------------------------------------\n",
    "\n",
    "# Visualización y gráficos\n",
    "import matplotlib.pyplot as plt\n",
    "import seaborn as sns\n",
    "# -----------------------------------------------------------------------\n",
    "\n",
    "\n",
    "# Configuración para visualizar todas las columnas de los DataFrames\n",
    "pd.set_option('display.max_columns', None)\n",
    "# -----------------------------------------------------------------------\n",
    "\n",
    "# Configuración para mejoras de la visualización\n",
    "from IPython.display import display\n",
    "# -----------------------------------------------------------------------\n",
    "\n",
    "# Gestión de warnings\n",
    "import warnings\n",
    "warnings.filterwarnings(\"ignore\")\n",
    "# -----------------------------------------------------------------------\n",
    "\n",
    "# Importación de DataFrames\n",
    "df = pd.read_csv(\"Sleep_Efficiency.csv\")"
   ]
  },
  {
   "cell_type": "code",
   "execution_count": 56,
   "id": "674b6f92",
   "metadata": {},
   "outputs": [
    {
     "data": {
      "text/html": [
       "<div>\n",
       "<style scoped>\n",
       "    .dataframe tbody tr th:only-of-type {\n",
       "        vertical-align: middle;\n",
       "    }\n",
       "\n",
       "    .dataframe tbody tr th {\n",
       "        vertical-align: top;\n",
       "    }\n",
       "\n",
       "    .dataframe thead th {\n",
       "        text-align: right;\n",
       "    }\n",
       "</style>\n",
       "<table border=\"1\" class=\"dataframe\">\n",
       "  <thead>\n",
       "    <tr style=\"text-align: right;\">\n",
       "      <th></th>\n",
       "      <th>ID</th>\n",
       "      <th>Age</th>\n",
       "      <th>Gender</th>\n",
       "      <th>Bedtime</th>\n",
       "      <th>Wakeup time</th>\n",
       "      <th>Sleep duration</th>\n",
       "      <th>Sleep efficiency</th>\n",
       "      <th>REM sleep percentage</th>\n",
       "      <th>Deep sleep percentage</th>\n",
       "      <th>Light sleep percentage</th>\n",
       "      <th>Awakenings</th>\n",
       "      <th>Caffeine consumption</th>\n",
       "      <th>Alcohol consumption</th>\n",
       "      <th>Smoking status</th>\n",
       "      <th>Exercise frequency</th>\n",
       "    </tr>\n",
       "  </thead>\n",
       "  <tbody>\n",
       "    <tr>\n",
       "      <th>87</th>\n",
       "      <td>88</td>\n",
       "      <td>50</td>\n",
       "      <td>Male</td>\n",
       "      <td>2021-04-14 00:00:00</td>\n",
       "      <td>2021-04-14 07:00:00</td>\n",
       "      <td>7.0</td>\n",
       "      <td>0.71</td>\n",
       "      <td>26</td>\n",
       "      <td>58</td>\n",
       "      <td>16</td>\n",
       "      <td>3.0</td>\n",
       "      <td>0.0</td>\n",
       "      <td>3.0</td>\n",
       "      <td>No</td>\n",
       "      <td>0.0</td>\n",
       "    </tr>\n",
       "    <tr>\n",
       "      <th>258</th>\n",
       "      <td>259</td>\n",
       "      <td>54</td>\n",
       "      <td>Male</td>\n",
       "      <td>2021-10-21 22:00:00</td>\n",
       "      <td>2021-10-21 06:00:00</td>\n",
       "      <td>8.0</td>\n",
       "      <td>0.61</td>\n",
       "      <td>18</td>\n",
       "      <td>35</td>\n",
       "      <td>47</td>\n",
       "      <td>1.0</td>\n",
       "      <td>0.0</td>\n",
       "      <td>0.0</td>\n",
       "      <td>Yes</td>\n",
       "      <td>3.0</td>\n",
       "    </tr>\n",
       "    <tr>\n",
       "      <th>199</th>\n",
       "      <td>200</td>\n",
       "      <td>52</td>\n",
       "      <td>Male</td>\n",
       "      <td>2021-08-19 22:30:00</td>\n",
       "      <td>2021-08-19 05:30:00</td>\n",
       "      <td>7.0</td>\n",
       "      <td>0.83</td>\n",
       "      <td>23</td>\n",
       "      <td>57</td>\n",
       "      <td>20</td>\n",
       "      <td>1.0</td>\n",
       "      <td>0.0</td>\n",
       "      <td>0.0</td>\n",
       "      <td>Yes</td>\n",
       "      <td>0.0</td>\n",
       "    </tr>\n",
       "    <tr>\n",
       "      <th>208</th>\n",
       "      <td>209</td>\n",
       "      <td>32</td>\n",
       "      <td>Female</td>\n",
       "      <td>2021-03-22 22:00:00</td>\n",
       "      <td>2021-03-22 06:00:00</td>\n",
       "      <td>8.0</td>\n",
       "      <td>0.88</td>\n",
       "      <td>22</td>\n",
       "      <td>65</td>\n",
       "      <td>13</td>\n",
       "      <td>1.0</td>\n",
       "      <td>0.0</td>\n",
       "      <td>0.0</td>\n",
       "      <td>No</td>\n",
       "      <td>2.0</td>\n",
       "    </tr>\n",
       "    <tr>\n",
       "      <th>416</th>\n",
       "      <td>417</td>\n",
       "      <td>49</td>\n",
       "      <td>Female</td>\n",
       "      <td>2021-01-04 22:00:00</td>\n",
       "      <td>2021-01-04 05:00:00</td>\n",
       "      <td>7.0</td>\n",
       "      <td>0.87</td>\n",
       "      <td>25</td>\n",
       "      <td>55</td>\n",
       "      <td>20</td>\n",
       "      <td>0.0</td>\n",
       "      <td>0.0</td>\n",
       "      <td>0.0</td>\n",
       "      <td>No</td>\n",
       "      <td>5.0</td>\n",
       "    </tr>\n",
       "  </tbody>\n",
       "</table>\n",
       "</div>"
      ],
      "text/plain": [
       "      ID  Age  Gender              Bedtime          Wakeup time  \\\n",
       "87    88   50    Male  2021-04-14 00:00:00  2021-04-14 07:00:00   \n",
       "258  259   54    Male  2021-10-21 22:00:00  2021-10-21 06:00:00   \n",
       "199  200   52    Male  2021-08-19 22:30:00  2021-08-19 05:30:00   \n",
       "208  209   32  Female  2021-03-22 22:00:00  2021-03-22 06:00:00   \n",
       "416  417   49  Female  2021-01-04 22:00:00  2021-01-04 05:00:00   \n",
       "\n",
       "     Sleep duration  Sleep efficiency  REM sleep percentage  \\\n",
       "87              7.0              0.71                    26   \n",
       "258             8.0              0.61                    18   \n",
       "199             7.0              0.83                    23   \n",
       "208             8.0              0.88                    22   \n",
       "416             7.0              0.87                    25   \n",
       "\n",
       "     Deep sleep percentage  Light sleep percentage  Awakenings  \\\n",
       "87                      58                      16         3.0   \n",
       "258                     35                      47         1.0   \n",
       "199                     57                      20         1.0   \n",
       "208                     65                      13         1.0   \n",
       "416                     55                      20         0.0   \n",
       "\n",
       "     Caffeine consumption  Alcohol consumption Smoking status  \\\n",
       "87                    0.0                  3.0             No   \n",
       "258                   0.0                  0.0            Yes   \n",
       "199                   0.0                  0.0            Yes   \n",
       "208                   0.0                  0.0             No   \n",
       "416                   0.0                  0.0             No   \n",
       "\n",
       "     Exercise frequency  \n",
       "87                  0.0  \n",
       "258                 3.0  \n",
       "199                 0.0  \n",
       "208                 2.0  \n",
       "416                 5.0  "
      ]
     },
     "execution_count": 56,
     "metadata": {},
     "output_type": "execute_result"
    }
   ],
   "source": [
    "df.sample(5)"
   ]
  },
  {
   "cell_type": "code",
   "execution_count": 74,
   "id": "e2d2166f",
   "metadata": {},
   "outputs": [
    {
     "data": {
      "text/html": [
       "<div>\n",
       "<style scoped>\n",
       "    .dataframe tbody tr th:only-of-type {\n",
       "        vertical-align: middle;\n",
       "    }\n",
       "\n",
       "    .dataframe tbody tr th {\n",
       "        vertical-align: top;\n",
       "    }\n",
       "\n",
       "    .dataframe thead th {\n",
       "        text-align: right;\n",
       "    }\n",
       "</style>\n",
       "<table border=\"1\" class=\"dataframe\">\n",
       "  <thead>\n",
       "    <tr style=\"text-align: right;\">\n",
       "      <th></th>\n",
       "      <th>ID</th>\n",
       "      <th>Age</th>\n",
       "      <th>Gender</th>\n",
       "      <th>Bedtime</th>\n",
       "      <th>Wakeup time</th>\n",
       "      <th>Sleep duration</th>\n",
       "      <th>Sleep efficiency</th>\n",
       "      <th>REM sleep percentage</th>\n",
       "      <th>Deep sleep percentage</th>\n",
       "      <th>Light sleep percentage</th>\n",
       "      <th>Awakenings</th>\n",
       "      <th>Caffeine consumption</th>\n",
       "      <th>Alcohol consumption</th>\n",
       "      <th>Smoking status</th>\n",
       "      <th>Exercise frequency</th>\n",
       "    </tr>\n",
       "  </thead>\n",
       "  <tbody>\n",
       "    <tr>\n",
       "      <th>0</th>\n",
       "      <td>1</td>\n",
       "      <td>65</td>\n",
       "      <td>Female</td>\n",
       "      <td>2021-03-06 01:00:00</td>\n",
       "      <td>2021-03-06 07:00:00</td>\n",
       "      <td>6.0</td>\n",
       "      <td>0.88</td>\n",
       "      <td>18</td>\n",
       "      <td>70</td>\n",
       "      <td>12</td>\n",
       "      <td>0.0</td>\n",
       "      <td>0.0</td>\n",
       "      <td>0.0000</td>\n",
       "      <td>Yes</td>\n",
       "      <td>3.0</td>\n",
       "    </tr>\n",
       "    <tr>\n",
       "      <th>1</th>\n",
       "      <td>2</td>\n",
       "      <td>69</td>\n",
       "      <td>Male</td>\n",
       "      <td>2021-12-05 02:00:00</td>\n",
       "      <td>2021-12-05 09:00:00</td>\n",
       "      <td>7.0</td>\n",
       "      <td>0.66</td>\n",
       "      <td>19</td>\n",
       "      <td>28</td>\n",
       "      <td>53</td>\n",
       "      <td>3.0</td>\n",
       "      <td>0.0</td>\n",
       "      <td>88.7205</td>\n",
       "      <td>Yes</td>\n",
       "      <td>3.0</td>\n",
       "    </tr>\n",
       "    <tr>\n",
       "      <th>2</th>\n",
       "      <td>3</td>\n",
       "      <td>40</td>\n",
       "      <td>Female</td>\n",
       "      <td>2021-05-25 21:30:00</td>\n",
       "      <td>2021-05-25 05:30:00</td>\n",
       "      <td>8.0</td>\n",
       "      <td>0.89</td>\n",
       "      <td>20</td>\n",
       "      <td>70</td>\n",
       "      <td>10</td>\n",
       "      <td>1.0</td>\n",
       "      <td>0.0</td>\n",
       "      <td>0.0000</td>\n",
       "      <td>No</td>\n",
       "      <td>3.0</td>\n",
       "    </tr>\n",
       "    <tr>\n",
       "      <th>3</th>\n",
       "      <td>4</td>\n",
       "      <td>40</td>\n",
       "      <td>Female</td>\n",
       "      <td>2021-11-03 02:30:00</td>\n",
       "      <td>2021-11-03 08:30:00</td>\n",
       "      <td>6.0</td>\n",
       "      <td>0.51</td>\n",
       "      <td>23</td>\n",
       "      <td>25</td>\n",
       "      <td>52</td>\n",
       "      <td>3.0</td>\n",
       "      <td>50.0</td>\n",
       "      <td>147.8675</td>\n",
       "      <td>Yes</td>\n",
       "      <td>1.0</td>\n",
       "    </tr>\n",
       "    <tr>\n",
       "      <th>4</th>\n",
       "      <td>5</td>\n",
       "      <td>57</td>\n",
       "      <td>Male</td>\n",
       "      <td>2021-03-13 01:00:00</td>\n",
       "      <td>2021-03-13 09:00:00</td>\n",
       "      <td>8.0</td>\n",
       "      <td>0.76</td>\n",
       "      <td>27</td>\n",
       "      <td>55</td>\n",
       "      <td>18</td>\n",
       "      <td>3.0</td>\n",
       "      <td>0.0</td>\n",
       "      <td>88.7205</td>\n",
       "      <td>No</td>\n",
       "      <td>3.0</td>\n",
       "    </tr>\n",
       "  </tbody>\n",
       "</table>\n",
       "</div>"
      ],
      "text/plain": [
       "   ID  Age  Gender              Bedtime          Wakeup time  Sleep duration  \\\n",
       "0   1   65  Female  2021-03-06 01:00:00  2021-03-06 07:00:00             6.0   \n",
       "1   2   69    Male  2021-12-05 02:00:00  2021-12-05 09:00:00             7.0   \n",
       "2   3   40  Female  2021-05-25 21:30:00  2021-05-25 05:30:00             8.0   \n",
       "3   4   40  Female  2021-11-03 02:30:00  2021-11-03 08:30:00             6.0   \n",
       "4   5   57    Male  2021-03-13 01:00:00  2021-03-13 09:00:00             8.0   \n",
       "\n",
       "   Sleep efficiency  REM sleep percentage  Deep sleep percentage  \\\n",
       "0              0.88                    18                     70   \n",
       "1              0.66                    19                     28   \n",
       "2              0.89                    20                     70   \n",
       "3              0.51                    23                     25   \n",
       "4              0.76                    27                     55   \n",
       "\n",
       "   Light sleep percentage  Awakenings  Caffeine consumption  \\\n",
       "0                      12         0.0                   0.0   \n",
       "1                      53         3.0                   0.0   \n",
       "2                      10         1.0                   0.0   \n",
       "3                      52         3.0                  50.0   \n",
       "4                      18         3.0                   0.0   \n",
       "\n",
       "   Alcohol consumption Smoking status  Exercise frequency  \n",
       "0               0.0000            Yes                 3.0  \n",
       "1              88.7205            Yes                 3.0  \n",
       "2               0.0000             No                 3.0  \n",
       "3             147.8675            Yes                 1.0  \n",
       "4              88.7205             No                 3.0  "
      ]
     },
     "execution_count": 74,
     "metadata": {},
     "output_type": "execute_result"
    }
   ],
   "source": [
    "df.head(5)"
   ]
  },
  {
   "cell_type": "code",
   "execution_count": 58,
   "id": "f8b69823",
   "metadata": {},
   "outputs": [
    {
     "data": {
      "text/plain": [
       "array([ 0.,  3.,  5.,  1.,  2., nan,  4.])"
      ]
     },
     "execution_count": 58,
     "metadata": {},
     "output_type": "execute_result"
    }
   ],
   "source": [
    "df['Alcohol consumption'].unique()"
   ]
  },
  {
   "cell_type": "code",
   "execution_count": 59,
   "id": "c02aa2be",
   "metadata": {},
   "outputs": [
    {
     "data": {
      "text/plain": [
       "0        0.0000\n",
       "1       88.7205\n",
       "2        0.0000\n",
       "3      147.8675\n",
       "4       88.7205\n",
       "         ...   \n",
       "447      0.0000\n",
       "448      0.0000\n",
       "449     88.7205\n",
       "450      0.0000\n",
       "451      0.0000\n",
       "Name: Alcohol consumption, Length: 452, dtype: float64"
      ]
     },
     "execution_count": 59,
     "metadata": {},
     "output_type": "execute_result"
    }
   ],
   "source": [
    "df['Alcohol consumption'] = df['Alcohol consumption'] * 29.5735\n",
    "df['Alcohol consumption']"
   ]
  },
  {
   "cell_type": "code",
   "execution_count": 60,
   "id": "ac35df55",
   "metadata": {},
   "outputs": [
    {
     "data": {
      "text/plain": [
       "(452, 15)"
      ]
     },
     "execution_count": 60,
     "metadata": {},
     "output_type": "execute_result"
    }
   ],
   "source": [
    "df.shape"
   ]
  },
  {
   "cell_type": "code",
   "execution_count": 61,
   "id": "e6c40991",
   "metadata": {},
   "outputs": [
    {
     "data": {
      "text/plain": [
       "0"
      ]
     },
     "execution_count": 61,
     "metadata": {},
     "output_type": "execute_result"
    }
   ],
   "source": [
    "df.duplicated().sum()"
   ]
  },
  {
   "cell_type": "code",
   "execution_count": 62,
   "id": "cfab7378",
   "metadata": {},
   "outputs": [
    {
     "data": {
      "text/plain": [
       "Index(['ID', 'Age', 'Gender', 'Bedtime', 'Wakeup time', 'Sleep duration',\n",
       "       'Sleep efficiency', 'REM sleep percentage', 'Deep sleep percentage',\n",
       "       'Light sleep percentage', 'Awakenings', 'Caffeine consumption',\n",
       "       'Alcohol consumption', 'Smoking status', 'Exercise frequency'],\n",
       "      dtype='object')"
      ]
     },
     "execution_count": 62,
     "metadata": {},
     "output_type": "execute_result"
    }
   ],
   "source": [
    "df.columns"
   ]
  },
  {
   "cell_type": "code",
   "execution_count": 63,
   "id": "dbf30faf",
   "metadata": {},
   "outputs": [
    {
     "data": {
      "text/plain": [
       "ID                        452\n",
       "Wakeup time               434\n",
       "Bedtime                   424\n",
       "Age                        61\n",
       "Sleep efficiency           50\n",
       "Deep sleep percentage      29\n",
       "Light sleep percentage     29\n",
       "REM sleep percentage       13\n",
       "Sleep duration              9\n",
       "Caffeine consumption        6\n",
       "Alcohol consumption         6\n",
       "Exercise frequency          6\n",
       "Awakenings                  5\n",
       "Gender                      2\n",
       "Smoking status              2\n",
       "dtype: int64"
      ]
     },
     "execution_count": 63,
     "metadata": {},
     "output_type": "execute_result"
    }
   ],
   "source": [
    "df.nunique().sort_values(ascending=False)"
   ]
  },
  {
   "cell_type": "code",
   "execution_count": 64,
   "id": "2b4c3aa2",
   "metadata": {},
   "outputs": [
    {
     "name": "stdout",
     "output_type": "stream",
     "text": [
      "<class 'pandas.core.frame.DataFrame'>\n",
      "RangeIndex: 452 entries, 0 to 451\n",
      "Data columns (total 15 columns):\n",
      " #   Column                  Non-Null Count  Dtype  \n",
      "---  ------                  --------------  -----  \n",
      " 0   ID                      452 non-null    int64  \n",
      " 1   Age                     452 non-null    int64  \n",
      " 2   Gender                  452 non-null    object \n",
      " 3   Bedtime                 452 non-null    object \n",
      " 4   Wakeup time             452 non-null    object \n",
      " 5   Sleep duration          452 non-null    float64\n",
      " 6   Sleep efficiency        452 non-null    float64\n",
      " 7   REM sleep percentage    452 non-null    int64  \n",
      " 8   Deep sleep percentage   452 non-null    int64  \n",
      " 9   Light sleep percentage  452 non-null    int64  \n",
      " 10  Awakenings              432 non-null    float64\n",
      " 11  Caffeine consumption    427 non-null    float64\n",
      " 12  Alcohol consumption     438 non-null    float64\n",
      " 13  Smoking status          452 non-null    object \n",
      " 14  Exercise frequency      446 non-null    float64\n",
      "dtypes: float64(6), int64(5), object(4)\n",
      "memory usage: 53.1+ KB\n"
     ]
    }
   ],
   "source": [
    "df.info()"
   ]
  },
  {
   "cell_type": "code",
   "execution_count": 65,
   "id": "71d4d1a6",
   "metadata": {},
   "outputs": [
    {
     "data": {
      "text/plain": [
       "Caffeine consumption      25\n",
       "Awakenings                20\n",
       "Alcohol consumption       14\n",
       "Exercise frequency         6\n",
       "ID                         0\n",
       "Age                        0\n",
       "Gender                     0\n",
       "Bedtime                    0\n",
       "Wakeup time                0\n",
       "Sleep duration             0\n",
       "Sleep efficiency           0\n",
       "REM sleep percentage       0\n",
       "Deep sleep percentage      0\n",
       "Light sleep percentage     0\n",
       "Smoking status             0\n",
       "dtype: int64"
      ]
     },
     "execution_count": 65,
     "metadata": {},
     "output_type": "execute_result"
    }
   ],
   "source": [
    "nulls = df.isnull().sum()\n",
    "nulls.sort_values(ascending=False)"
   ]
  },
  {
   "cell_type": "code",
   "execution_count": 66,
   "id": "84646031",
   "metadata": {},
   "outputs": [],
   "source": [
    "nulls_percentage = nulls/df.shape[0]*100 # transformamos los nulos a porcentajes de nulos"
   ]
  },
  {
   "cell_type": "code",
   "execution_count": 67,
   "id": "5336af54",
   "metadata": {},
   "outputs": [
    {
     "name": "stdout",
     "output_type": "stream",
     "text": [
      "La columna \"Caffeine consumption\" es de tipo: float64\n",
      "Su número de nulos es 25.\n",
      "Su porcentaje de nulos es 5.530973451327434\n",
      "--------------------------------------------------------\n",
      "La columna \"Awakenings\" es de tipo: float64\n",
      "Su número de nulos es 20.\n",
      "Su porcentaje de nulos es 4.424778761061947\n",
      "--------------------------------------------------------\n",
      "La columna \"Alcohol consumption\" es de tipo: float64\n",
      "Su número de nulos es 14.\n",
      "Su porcentaje de nulos es 3.0973451327433628\n",
      "--------------------------------------------------------\n",
      "La columna \"Exercise frequency\" es de tipo: float64\n",
      "Su número de nulos es 6.\n",
      "Su porcentaje de nulos es 1.3274336283185841\n",
      "--------------------------------------------------------\n"
     ]
    }
   ],
   "source": [
    "columns_with_null = ['Caffeine consumption', 'Awakenings', 'Alcohol consumption', 'Exercise frequency']\n",
    "\n",
    "for i in columns_with_null:\n",
    "    print(f'La columna \"{i}\" es de tipo: {df.dtypes[i]}')\n",
    "    print(f'Su número de nulos es {nulls[i]}.')\n",
    "    print(f'Su porcentaje de nulos es {nulls_percentage[i]}')\n",
    "    print('--------------------------------------------------------')"
   ]
  },
  {
   "cell_type": "code",
   "execution_count": 68,
   "id": "55f23924",
   "metadata": {},
   "outputs": [
    {
     "data": {
      "image/png": "[encoded data removed]",
      "text/plain": [
       "<Figure size 800x500 with 1 Axes>"
      ]
     },
     "metadata": {},
     "output_type": "display_data"
    },
    {
     "data": {
      "image/png": "[encoded data removed]",
      "text/plain": [
       "<Figure size 800x500 with 1 Axes>"
      ]
     },
     "metadata": {},
     "output_type": "display_data"
    },
    {
     "data": {
      "image/png": "[encoded data removed]",
      "text/plain": [
       "<Figure size 800x500 with 1 Axes>"
      ]
     },
     "metadata": {},
     "output_type": "display_data"
    },
    {
     "data": {
      "image/png": "[encoded data removed]",
      "text/plain": [
       "<Figure size 800x500 with 1 Axes>"
      ]
     },
     "metadata": {},
     "output_type": "display_data"
    }
   ],
   "source": [
    "# => las 4 columnas tienen un bajo porcentaje de nulos => evaluamos su distribución:\n",
    "for col in list(columns_with_null):\n",
    "    plt.figure(figsize=(8, 5))\n",
    "    plt.hist(df[col].dropna(), bins=30, color='skyblue', edgecolor='black')\n",
    "    plt.title(f'Histograma de {col}')\n",
    "    plt.xlabel(col)\n",
    "    plt.ylabel('Frequency')\n",
    "    plt.show()"
   ]
  },
  {
   "cell_type": "code",
   "execution_count": 69,
   "id": "847fcdce",
   "metadata": {},
   "outputs": [],
   "source": [
    "# como las 4 columnas tienen un % bajo de nulos (columnas de tipo numérico) y su distribución es asimétrica => sustituimos los nulos por la mediana:\n",
    "median_caffeine = df['Caffeine consumption'].median()\n",
    "df['Caffeine consumption'] = df['Caffeine consumption'].fillna(median_caffeine)\n",
    "\n",
    "median_awakenings = df['Awakenings'].median()\n",
    "df['Awakenings'] = df['Awakenings'].fillna(median_awakenings)\n",
    "\n",
    "median_alcohol = df['Alcohol consumption'].median()\n",
    "df['Alcohol consumption'] = df['Alcohol consumption'].fillna(median_alcohol)\n",
    "\n",
    "median_exercise = df['Exercise frequency'].median()\n",
    "df['Exercise frequency'] = df['Exercise frequency'].fillna(median_exercise)"
   ]
  },
  {
   "cell_type": "code",
   "execution_count": 72,
   "id": "5084cfc1",
   "metadata": {},
   "outputs": [
    {
     "data": {
      "text/plain": [
       "ID                        0\n",
       "Age                       0\n",
       "Gender                    0\n",
       "Bedtime                   0\n",
       "Wakeup time               0\n",
       "Sleep duration            0\n",
       "Sleep efficiency          0\n",
       "REM sleep percentage      0\n",
       "Deep sleep percentage     0\n",
       "Light sleep percentage    0\n",
       "Awakenings                0\n",
       "Caffeine consumption      0\n",
       "Alcohol consumption       0\n",
       "Smoking status            0\n",
       "Exercise frequency        0\n",
       "dtype: int64"
      ]
     },
     "execution_count": 72,
     "metadata": {},
     "output_type": "execute_result"
    }
   ],
   "source": [
    "# comprobamos que ya no hay nulos:\n",
    "df.isnull().sum()"
   ]
  },
  {
   "cell_type": "code",
   "execution_count": 73,
   "id": "69f1f310",
   "metadata": {},
   "outputs": [],
   "source": [
    "df.to_csv('project_sleep_efficiency.csv', index=False)"
   ]
  }
 ],
 "metadata": {
  "kernelspec": {
   "display_name": "base",
   "language": "python",
   "name": "python3"
  },
  "language_info": {
   "codemirror_mode": {
    "name": "ipython",
    "version": 3
   },
   "file_extension": ".py",
   "mimetype": "text/x-python",
   "name": "python",
   "nbconvert_exporter": "python",
   "pygments_lexer": "ipython3",
   "version": "3.12.7"
  }
 },
 "nbformat": 4,
 "nbformat_minor": 5
}
